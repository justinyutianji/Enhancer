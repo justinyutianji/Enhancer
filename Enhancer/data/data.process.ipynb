{
 "cells": [
  {
   "cell_type": "code",
   "execution_count": 2,
   "metadata": {},
   "outputs": [],
   "source": [
    "import pandas as pd"
   ]
  },
  {
   "cell_type": "code",
   "execution_count": 3,
   "metadata": {},
   "outputs": [
    {
     "name": "stdout",
     "output_type": "stream",
     "text": [
      "Length of raw dataset: 28800\n",
      "Columns in the raw dataset: Index(['Rep', 'Id', 'Pos1', 'Pos2', 'Pos3', 'G-', 'G-_pi', 'G-_sigma',\n",
      "       'G-_std', 'G-_pi_std', 'G-_sigma_std', 'G+', 'G+_pi', 'G+_sigma',\n",
      "       'G+_std', 'G+_pi_std', 'G+_sigma_std', 'fragment_ids', 'sequence'],\n",
      "      dtype='object')\n"
     ]
    }
   ],
   "source": [
    "data = pd.read_csv('/pmglocal/ty2514/Enhancer/Enhancer/data/input_data_raw.csv', sep = ',')\n",
    "print(f'Length of raw dataset: {len(data)}')\n",
    "print(f'Columns in the raw dataset: {data.columns}')"
   ]
  },
  {
   "cell_type": "markdown",
   "metadata": {},
   "source": [
    "# Create Merged Data"
   ]
  },
  {
   "cell_type": "code",
   "execution_count": 4,
   "metadata": {},
   "outputs": [
    {
     "name": "stdout",
     "output_type": "stream",
     "text": [
      "28292\n",
      "Length of filtered dataset: 14301\n",
      "Columns in the filtered dataset: Index(['G-', 'G+', 'G+_std', 'G-_std', 'Pos1', 'Pos2', 'Pos3', 'sequence',\n",
      "       'fragment_ids', 'GFP'],\n",
      "      dtype='object')\n"
     ]
    }
   ],
   "source": [
    "# Step 1: Filter out samples where 'G+_std' or 'G-_std' is greater than 0.1\n",
    "filtered_data = data[(data['G+_std'] <= 0.1) & (data['G-_std'] <= 0.1)]\n",
    "print(len(filtered_data))\n",
    "# Step 2: Group by unique sequence ('sequence' and 'fragment_ids' as identifiers) and aggregate\n",
    "# Columns to aggregate: 'G-', 'G+', 'G+_std', 'G-_std'\n",
    "# Columns to keep: 'Pos1', 'Pos2', 'Pos3', 'sequence', 'fragment_ids'\n",
    "\n",
    "# Define the aggregation logic for each column\n",
    "aggregation = {\n",
    "    'G-': 'mean', \n",
    "    'G+': 'mean', \n",
    "    'G+_std': 'mean', \n",
    "    'G-_std': 'mean', \n",
    "    'Pos1': 'first', \n",
    "    'Pos2': 'first', \n",
    "    'Pos3': 'first',\n",
    "    'sequence': 'first', \n",
    "    'fragment_ids': 'first'\n",
    "}\n",
    "\n",
    "# Perform the aggregation\n",
    "unique_sequences_df = filtered_data.groupby(['sequence', 'fragment_ids'], as_index=False).agg(aggregation)\n",
    "\n",
    "# Step 3: Calculate 'GFP' by subtracting 'G-' from 'G+' for each unique sequence\n",
    "unique_sequences_df['GFP'] = unique_sequences_df['G+'] - unique_sequences_df['G-']\n",
    "\n",
    "print(f'Length of filtered dataset: {len(unique_sequences_df)}')\n",
    "print(f'Columns in the filtered dataset: {unique_sequences_df.columns}')"
   ]
  },
  {
   "cell_type": "code",
   "execution_count": 5,
   "metadata": {},
   "outputs": [
    {
     "data": {
      "text/html": [
       "<div>\n",
       "<style scoped>\n",
       "    .dataframe tbody tr th:only-of-type {\n",
       "        vertical-align: middle;\n",
       "    }\n",
       "\n",
       "    .dataframe tbody tr th {\n",
       "        vertical-align: top;\n",
       "    }\n",
       "\n",
       "    .dataframe thead th {\n",
       "        text-align: right;\n",
       "    }\n",
       "</style>\n",
       "<table border=\"1\" class=\"dataframe\">\n",
       "  <thead>\n",
       "    <tr style=\"text-align: right;\">\n",
       "      <th></th>\n",
       "      <th>G-</th>\n",
       "      <th>G+</th>\n",
       "      <th>G+_std</th>\n",
       "      <th>G-_std</th>\n",
       "      <th>Pos1</th>\n",
       "      <th>Pos2</th>\n",
       "      <th>Pos3</th>\n",
       "      <th>sequence</th>\n",
       "      <th>fragment_ids</th>\n",
       "      <th>GFP</th>\n",
       "    </tr>\n",
       "  </thead>\n",
       "  <tbody>\n",
       "    <tr>\n",
       "      <th>0</th>\n",
       "      <td>8.436920</td>\n",
       "      <td>8.720525</td>\n",
       "      <td>0.028755</td>\n",
       "      <td>0.025539</td>\n",
       "      <td>10</td>\n",
       "      <td>10</td>\n",
       "      <td>10</td>\n",
       "      <td>AAAAAAAATCTCTCATATCCTACACATCCTCAGAAGAGCTTCTATG...</td>\n",
       "      <td>10_10_10</td>\n",
       "      <td>0.283605</td>\n",
       "    </tr>\n",
       "    <tr>\n",
       "      <th>1</th>\n",
       "      <td>8.473200</td>\n",
       "      <td>8.817645</td>\n",
       "      <td>0.034078</td>\n",
       "      <td>0.042597</td>\n",
       "      <td>10</td>\n",
       "      <td>10</td>\n",
       "      <td>8</td>\n",
       "      <td>AAAAAAAATCTCTCATATCCTACACATCCTCAGAAGAGCTTCTATG...</td>\n",
       "      <td>10_10_08</td>\n",
       "      <td>0.344445</td>\n",
       "    </tr>\n",
       "    <tr>\n",
       "      <th>2</th>\n",
       "      <td>8.142875</td>\n",
       "      <td>8.508900</td>\n",
       "      <td>0.027800</td>\n",
       "      <td>0.031862</td>\n",
       "      <td>10</td>\n",
       "      <td>10</td>\n",
       "      <td>22</td>\n",
       "      <td>AAAAAAAATCTCTCATATCCTACACATCCTCAGAAGAGCTTCTATG...</td>\n",
       "      <td>10_10_22</td>\n",
       "      <td>0.366025</td>\n",
       "    </tr>\n",
       "    <tr>\n",
       "      <th>3</th>\n",
       "      <td>8.381665</td>\n",
       "      <td>8.465130</td>\n",
       "      <td>0.028409</td>\n",
       "      <td>0.027395</td>\n",
       "      <td>10</td>\n",
       "      <td>10</td>\n",
       "      <td>19</td>\n",
       "      <td>AAAAAAAATCTCTCATATCCTACACATCCTCAGAAGAGCTTCTATG...</td>\n",
       "      <td>10_10_19</td>\n",
       "      <td>0.083465</td>\n",
       "    </tr>\n",
       "    <tr>\n",
       "      <th>4</th>\n",
       "      <td>8.644885</td>\n",
       "      <td>8.768005</td>\n",
       "      <td>0.036832</td>\n",
       "      <td>0.030498</td>\n",
       "      <td>10</td>\n",
       "      <td>10</td>\n",
       "      <td>5</td>\n",
       "      <td>AAAAAAAATCTCTCATATCCTACACATCCTCAGAAGAGCTTCTATG...</td>\n",
       "      <td>10_10_05</td>\n",
       "      <td>0.123120</td>\n",
       "    </tr>\n",
       "  </tbody>\n",
       "</table>\n",
       "</div>"
      ],
      "text/plain": [
       "         G-        G+    G+_std    G-_std  Pos1  Pos2  Pos3  \\\n",
       "0  8.436920  8.720525  0.028755  0.025539    10    10    10   \n",
       "1  8.473200  8.817645  0.034078  0.042597    10    10     8   \n",
       "2  8.142875  8.508900  0.027800  0.031862    10    10    22   \n",
       "3  8.381665  8.465130  0.028409  0.027395    10    10    19   \n",
       "4  8.644885  8.768005  0.036832  0.030498    10    10     5   \n",
       "\n",
       "                                            sequence fragment_ids       GFP  \n",
       "0  AAAAAAAATCTCTCATATCCTACACATCCTCAGAAGAGCTTCTATG...     10_10_10  0.283605  \n",
       "1  AAAAAAAATCTCTCATATCCTACACATCCTCAGAAGAGCTTCTATG...     10_10_08  0.344445  \n",
       "2  AAAAAAAATCTCTCATATCCTACACATCCTCAGAAGAGCTTCTATG...     10_10_22  0.366025  \n",
       "3  AAAAAAAATCTCTCATATCCTACACATCCTCAGAAGAGCTTCTATG...     10_10_19  0.083465  \n",
       "4  AAAAAAAATCTCTCATATCCTACACATCCTCAGAAGAGCTTCTATG...     10_10_05  0.123120  "
      ]
     },
     "execution_count": 5,
     "metadata": {},
     "output_type": "execute_result"
    }
   ],
   "source": [
    "# Display the resulting DataFrame\n",
    "unique_sequences_df.head()"
   ]
  },
  {
   "cell_type": "code",
   "execution_count": 6,
   "metadata": {},
   "outputs": [
    {
     "data": {
      "text/html": [
       "<div>\n",
       "<style scoped>\n",
       "    .dataframe tbody tr th:only-of-type {\n",
       "        vertical-align: middle;\n",
       "    }\n",
       "\n",
       "    .dataframe tbody tr th {\n",
       "        vertical-align: top;\n",
       "    }\n",
       "\n",
       "    .dataframe thead th {\n",
       "        text-align: right;\n",
       "    }\n",
       "</style>\n",
       "<table border=\"1\" class=\"dataframe\">\n",
       "  <thead>\n",
       "    <tr style=\"text-align: right;\">\n",
       "      <th></th>\n",
       "      <th>Rep</th>\n",
       "      <th>Id</th>\n",
       "      <th>Pos1</th>\n",
       "      <th>Pos2</th>\n",
       "      <th>Pos3</th>\n",
       "      <th>G-</th>\n",
       "      <th>G-_pi</th>\n",
       "      <th>G-_sigma</th>\n",
       "      <th>G-_std</th>\n",
       "      <th>G-_pi_std</th>\n",
       "      <th>G-_sigma_std</th>\n",
       "      <th>G+</th>\n",
       "      <th>G+_pi</th>\n",
       "      <th>G+_sigma</th>\n",
       "      <th>G+_std</th>\n",
       "      <th>G+_pi_std</th>\n",
       "      <th>G+_sigma_std</th>\n",
       "      <th>fragment_ids</th>\n",
       "      <th>sequence</th>\n",
       "    </tr>\n",
       "  </thead>\n",
       "  <tbody>\n",
       "    <tr>\n",
       "      <th>6260</th>\n",
       "      <td>0</td>\n",
       "      <td>6510</td>\n",
       "      <td>10</td>\n",
       "      <td>10</td>\n",
       "      <td>10</td>\n",
       "      <td>8.33074</td>\n",
       "      <td>0.000096</td>\n",
       "      <td>1.098810</td>\n",
       "      <td>0.026609</td>\n",
       "      <td>0.000002</td>\n",
       "      <td>0.022896</td>\n",
       "      <td>8.83325</td>\n",
       "      <td>0.000125</td>\n",
       "      <td>1.26817</td>\n",
       "      <td>0.026927</td>\n",
       "      <td>0.000003</td>\n",
       "      <td>0.023331</td>\n",
       "      <td>10_10_10</td>\n",
       "      <td>AAAAAAAATCTCTCATATCCTACACATCCTCAGAAGAGCTTCTATG...</td>\n",
       "    </tr>\n",
       "    <tr>\n",
       "      <th>20660</th>\n",
       "      <td>1</td>\n",
       "      <td>6510</td>\n",
       "      <td>10</td>\n",
       "      <td>10</td>\n",
       "      <td>10</td>\n",
       "      <td>8.54310</td>\n",
       "      <td>0.000099</td>\n",
       "      <td>0.982973</td>\n",
       "      <td>0.024469</td>\n",
       "      <td>0.000002</td>\n",
       "      <td>0.019877</td>\n",
       "      <td>8.60780</td>\n",
       "      <td>0.000091</td>\n",
       "      <td>1.30493</td>\n",
       "      <td>0.030583</td>\n",
       "      <td>0.000002</td>\n",
       "      <td>0.028527</td>\n",
       "      <td>10_10_10</td>\n",
       "      <td>AAAAAAAATCTCTCATATCCTACACATCCTCAGAAGAGCTTCTATG...</td>\n",
       "    </tr>\n",
       "  </tbody>\n",
       "</table>\n",
       "</div>"
      ],
      "text/plain": [
       "       Rep    Id  Pos1  Pos2  Pos3       G-     G-_pi  G-_sigma    G-_std  \\\n",
       "6260     0  6510    10    10    10  8.33074  0.000096  1.098810  0.026609   \n",
       "20660    1  6510    10    10    10  8.54310  0.000099  0.982973  0.024469   \n",
       "\n",
       "       G-_pi_std  G-_sigma_std       G+     G+_pi  G+_sigma    G+_std  \\\n",
       "6260    0.000002      0.022896  8.83325  0.000125   1.26817  0.026927   \n",
       "20660   0.000002      0.019877  8.60780  0.000091   1.30493  0.030583   \n",
       "\n",
       "       G+_pi_std  G+_sigma_std fragment_ids  \\\n",
       "6260    0.000003      0.023331     10_10_10   \n",
       "20660   0.000002      0.028527     10_10_10   \n",
       "\n",
       "                                                sequence  \n",
       "6260   AAAAAAAATCTCTCATATCCTACACATCCTCAGAAGAGCTTCTATG...  \n",
       "20660  AAAAAAAATCTCTCATATCCTACACATCCTCAGAAGAGCTTCTATG...  "
      ]
     },
     "execution_count": 6,
     "metadata": {},
     "output_type": "execute_result"
    }
   ],
   "source": [
    "# Manully check if the calculation of average mean and std are correct\n",
    "data[data['fragment_ids'] == '10_10_10']"
   ]
  },
  {
   "cell_type": "code",
   "execution_count": 7,
   "metadata": {},
   "outputs": [
    {
     "name": "stdout",
     "output_type": "stream",
     "text": [
      "{'02_01_02', '02_01_24', '24_01_13', '20_02_06', '02_01_15', '17_05_17', '02_01_09', '16_04_08', '04_02_13', '10_12_20', '24_24_06', '08_24_02', '20_02_02', '20_01_23', '08_02_08', '13_02_04', '20_01_20', '07_02_02', '05_11_17', '04_04_05', '05_01_10', '05_24_24', '05_11_01', '13_24_13', '24_02_13', '02_04_06', '16_02_05', '24_24_12', '12_24_02', '05_01_08', '05_11_08', '20_04_04', '13_02_07', '16_09_04', '05_11_11', '16_24_10', '17_02_02', '20_01_05', '24_24_24', '05_04_05', '24_11_02', '02_24_04', '22_01_24', '05_02_17', '05_11_18', '16_02_17', '02_02_08', '05_04_08', '24_01_04', '20_02_24', '17_11_17', '05_01_07', '10_02_05', '24_23_02', '02_02_06', '04_11_04', '08_02_13', '02_24_24', '24_02_20', '24_12_13', '04_02_01', '04_02_20', '20_02_10', '20_11_04', '24_24_11', '05_04_02', '04_02_04', '24_01_23', '02_11_05', '06_04_06', '23_02_23', '12_02_13', '08_04_02', '13_11_17', '24_24_07', '05_09_04', '04_04_04', '02_01_17', '08_24_08', '08_01_08', '04_02_15', '24_24_10', '20_02_13', '05_06_02', '05_02_02', '12_02_02', '16_12_02', '07_02_07', '20_11_13', '05_01_02', '22_02_04', '13_01_02', '02_23_02', '05_01_03', '06_11_02', '20_02_11', '08_01_13', '07_04_07', '04_05_17'}\n"
     ]
    },
    {
     "data": {
      "text/html": [
       "<div>\n",
       "<style scoped>\n",
       "    .dataframe tbody tr th:only-of-type {\n",
       "        vertical-align: middle;\n",
       "    }\n",
       "\n",
       "    .dataframe tbody tr th {\n",
       "        vertical-align: top;\n",
       "    }\n",
       "\n",
       "    .dataframe thead th {\n",
       "        text-align: right;\n",
       "    }\n",
       "</style>\n",
       "<table border=\"1\" class=\"dataframe\">\n",
       "  <thead>\n",
       "    <tr style=\"text-align: right;\">\n",
       "      <th></th>\n",
       "      <th>Rep</th>\n",
       "      <th>Id</th>\n",
       "      <th>Pos1</th>\n",
       "      <th>Pos2</th>\n",
       "      <th>Pos3</th>\n",
       "      <th>G-</th>\n",
       "      <th>G-_pi</th>\n",
       "      <th>G-_sigma</th>\n",
       "      <th>G-_std</th>\n",
       "      <th>G-_pi_std</th>\n",
       "      <th>G-_sigma_std</th>\n",
       "      <th>G+</th>\n",
       "      <th>G+_pi</th>\n",
       "      <th>G+_sigma</th>\n",
       "      <th>G+_std</th>\n",
       "      <th>G+_pi_std</th>\n",
       "      <th>G+_sigma_std</th>\n",
       "      <th>fragment_ids</th>\n",
       "      <th>sequence</th>\n",
       "    </tr>\n",
       "  </thead>\n",
       "  <tbody>\n",
       "    <tr>\n",
       "      <th>6880</th>\n",
       "      <td>0</td>\n",
       "      <td>7155</td>\n",
       "      <td>5</td>\n",
       "      <td>11</td>\n",
       "      <td>11</td>\n",
       "      <td>8.43770</td>\n",
       "      <td>0.000004</td>\n",
       "      <td>0.882101</td>\n",
       "      <td>0.113136</td>\n",
       "      <td>4.779010e-07</td>\n",
       "      <td>0.087392</td>\n",
       "      <td>8.29348</td>\n",
       "      <td>0.000005</td>\n",
       "      <td>1.374310</td>\n",
       "      <td>0.135029</td>\n",
       "      <td>5.047790e-07</td>\n",
       "      <td>0.127579</td>\n",
       "      <td>05_11_11</td>\n",
       "      <td>CCGATTGCTAAGCTGCGGACAATGAGGGAAATGTAGACAAATGTCC...</td>\n",
       "    </tr>\n",
       "    <tr>\n",
       "      <th>21280</th>\n",
       "      <td>1</td>\n",
       "      <td>7155</td>\n",
       "      <td>5</td>\n",
       "      <td>11</td>\n",
       "      <td>11</td>\n",
       "      <td>8.92382</td>\n",
       "      <td>0.000004</td>\n",
       "      <td>1.028190</td>\n",
       "      <td>0.129185</td>\n",
       "      <td>4.071210e-07</td>\n",
       "      <td>0.116079</td>\n",
       "      <td>7.70014</td>\n",
       "      <td>0.000002</td>\n",
       "      <td>0.741133</td>\n",
       "      <td>0.131440</td>\n",
       "      <td>2.736380e-07</td>\n",
       "      <td>0.132911</td>\n",
       "      <td>05_11_11</td>\n",
       "      <td>CCGATTGCTAAGCTGCGGACAATGAGGGAAATGTAGACAAATGTCC...</td>\n",
       "    </tr>\n",
       "  </tbody>\n",
       "</table>\n",
       "</div>"
      ],
      "text/plain": [
       "       Rep    Id  Pos1  Pos2  Pos3       G-     G-_pi  G-_sigma    G-_std  \\\n",
       "6880     0  7155     5    11    11  8.43770  0.000004  0.882101  0.113136   \n",
       "21280    1  7155     5    11    11  8.92382  0.000004  1.028190  0.129185   \n",
       "\n",
       "          G-_pi_std  G-_sigma_std       G+     G+_pi  G+_sigma    G+_std  \\\n",
       "6880   4.779010e-07      0.087392  8.29348  0.000005  1.374310  0.135029   \n",
       "21280  4.071210e-07      0.116079  7.70014  0.000002  0.741133  0.131440   \n",
       "\n",
       "          G+_pi_std  G+_sigma_std fragment_ids  \\\n",
       "6880   5.047790e-07      0.127579     05_11_11   \n",
       "21280  2.736380e-07      0.132911     05_11_11   \n",
       "\n",
       "                                                sequence  \n",
       "6880   CCGATTGCTAAGCTGCGGACAATGAGGGAAATGTAGACAAATGTCC...  \n",
       "21280  CCGATTGCTAAGCTGCGGACAATGAGGGAAATGTAGACAAATGTCC...  "
      ]
     },
     "execution_count": 7,
     "metadata": {},
     "output_type": "execute_result"
    }
   ],
   "source": [
    "# Get IDs of filtered samples\n",
    "filtered_ids = set(data['fragment_ids']) - set(unique_sequences_df['fragment_ids'])\n",
    "print(filtered_ids)\n",
    "\n",
    "# Randomly pick a few to manually double check if the filtering is correct\n",
    "data[data['fragment_ids'] == '05_11_11']"
   ]
  },
  {
   "cell_type": "code",
   "execution_count": 8,
   "metadata": {},
   "outputs": [
    {
     "name": "stdout",
     "output_type": "stream",
     "text": [
      "            G-        G+       GFP\n",
      "mean  8.450228  8.543775  0.093547\n",
      "std   0.192106  0.244138  0.273139\n",
      "min   7.096070  7.572620 -1.519000\n",
      "max   9.452100  9.758660  1.652550\n"
     ]
    }
   ],
   "source": [
    "# Calculate descriptive statistics for 'G-', 'G+', and 'GFP'\n",
    "scale_info = unique_sequences_df[['G-', 'G+', 'GFP']].agg(['mean', 'std', 'min', 'max'])\n",
    "print(scale_info)"
   ]
  },
  {
   "cell_type": "code",
   "execution_count": null,
   "metadata": {},
   "outputs": [],
   "source": [
    "# Save the data\n",
    "unique_sequences_df.to_csv('/pmglocal/ty2514/Enhancer/Enhancer/data/filtered_merged_data.csv', index = False)"
   ]
  },
  {
   "cell_type": "markdown",
   "metadata": {},
   "source": [
    "# Create Data For Two Replicates"
   ]
  },
  {
   "cell_type": "code",
   "execution_count": 4,
   "metadata": {},
   "outputs": [
    {
     "name": "stdout",
     "output_type": "stream",
     "text": [
      "Raw data have 28800 samples\n",
      "Confident data have 28292 samples\n",
      "Rep1 data have 14175 samples\n",
      "Rep1 data have 14117 samples\n"
     ]
    },
    {
     "name": "stderr",
     "output_type": "stream",
     "text": [
      "/tmp/ipykernel_12502/2377819509.py:4: SettingWithCopyWarning: \n",
      "A value is trying to be set on a copy of a slice from a DataFrame.\n",
      "Try using .loc[row_indexer,col_indexer] = value instead\n",
      "\n",
      "See the caveats in the documentation: https://pandas.pydata.org/pandas-docs/stable/user_guide/indexing.html#returning-a-view-versus-a-copy\n",
      "  rep1_data['GFP'] = rep1_data['G+'] - rep1_data['G-']\n",
      "/tmp/ipykernel_12502/2377819509.py:6: SettingWithCopyWarning: \n",
      "A value is trying to be set on a copy of a slice from a DataFrame.\n",
      "Try using .loc[row_indexer,col_indexer] = value instead\n",
      "\n",
      "See the caveats in the documentation: https://pandas.pydata.org/pandas-docs/stable/user_guide/indexing.html#returning-a-view-versus-a-copy\n",
      "  rep2_data['GFP'] = rep2_data['G+'] - rep2_data['G-']\n"
     ]
    }
   ],
   "source": [
    "# Step 1: Filter out samples where 'G+_std' or 'G-_std' is greater than 0.1\n",
    "filtered_data = data[(data['G+_std'] <= 0.1) & (data['G-_std'] <= 0.1)]\n",
    "rep1_data = filtered_data[filtered_data['Rep'] == 0]\n",
    "rep1_data['GFP'] = rep1_data['G+'] - rep1_data['G-']\n",
    "rep2_data = filtered_data[filtered_data['Rep'] == 1]\n",
    "rep2_data['GFP'] = rep2_data['G+'] - rep2_data['G-']\n",
    "\n",
    "print(f'Raw data have {len(data)} samples')\n",
    "print(f'Confident data have {len(filtered_data)} samples')\n",
    "print(f'Rep1 data have {len(rep1_data)} samples')\n",
    "print(f'Rep1 data have {len(rep2_data)} samples')"
   ]
  },
  {
   "cell_type": "code",
   "execution_count": 7,
   "metadata": {},
   "outputs": [],
   "source": [
    "rep1_data.to_csv('/pmglocal/ty2514/Enhancer/Enhancer/data/filtered_rep1_data.csv', index = False)\n",
    "rep2_data.to_csv('/pmglocal/ty2514/Enhancer/Enhancer/data/filtered_rep2_data.csv', index = False)"
   ]
  }
 ],
 "metadata": {
  "kernelspec": {
   "display_name": "explainn",
   "language": "python",
   "name": "python3"
  },
  "language_info": {
   "codemirror_mode": {
    "name": "ipython",
    "version": 3
   },
   "file_extension": ".py",
   "mimetype": "text/x-python",
   "name": "python",
   "nbconvert_exporter": "python",
   "pygments_lexer": "ipython3",
   "version": "3.10.14"
  }
 },
 "nbformat": 4,
 "nbformat_minor": 2
}
