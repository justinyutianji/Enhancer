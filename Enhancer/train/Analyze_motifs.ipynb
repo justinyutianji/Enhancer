{
 "cells": [
  {
   "cell_type": "code",
   "execution_count": 2,
   "metadata": {},
   "outputs": [],
   "source": [
    "import pandas as pd"
   ]
  },
  {
   "cell_type": "code",
   "execution_count": null,
   "metadata": {},
   "outputs": [],
   "source": [
    "tfs_df = pd.read_csv('/pmglocal/ty2514/Enhancer/Enhancer/data/ExplaiNN_G+G-_Pred/GFP-_combined_tf_importance.csv')\n",
    "tfs_df = pd.read_csv('/pmglocal/ty2514/Enhancer/Enhancer/data/ExplaiNN_G+G-_Pred/GFP-_combined_tf_importance.csv')"
   ]
  },
  {
   "cell_type": "code",
   "execution_count": null,
   "metadata": {},
   "outputs": [],
   "source": [
    "import pandas as pd\n",
    "from collections import Counter\n",
    "\n",
    "# Assuming `tfs_df` is your DataFrame with TFs and scores\n",
    "# Sample structure of the DataFrame for demonstration purposes\n",
    "# tfs_df = pd.DataFrame(...)\n",
    "\n",
    "# Prepare an output list for storing final co-occurrence data for each num_cnn\n",
    "output_data = []\n",
    "\n",
    "# Loop over each unique num_cnn\n",
    "for num_cnn, group_df in tfs_df.groupby('num_cnn'):\n",
    "    # Collect all TFs from each row as lists of unique TFs that contain a '-'\n",
    "    all_tfs = []\n",
    "    for _, row in group_df.iterrows():\n",
    "        # Include only TFs that contain '-'\n",
    "        tfs = set([row[f'tf{i}'] for i in range(1, 11) if pd.notnull(row[f'tf{i}']) and '-' in row[f'tf{i}']])\n",
    "        all_tfs.append(tfs)\n",
    "    \n",
    "    # Flatten the list of TFs and count their occurrences\n",
    "    tf_counter = Counter(tf for tf_set in all_tfs for tf in tf_set)\n",
    "    \n",
    "    # Filter TFs that co-occur in more than 2 samples\n",
    "    co_occurring_tfs = {tf: count for tf, count in tf_counter.items() if count >= 2}\n",
    "    \n",
    "    # If there are co-occurring TFs, store them in the output data\n",
    "    if co_occurring_tfs:\n",
    "        for tf, count in co_occurring_tfs.items():\n",
    "            output_data.append({\n",
    "                'num_cnn': num_cnn,\n",
    "                'TF': tf,\n",
    "                'Co-Occurrence': count\n",
    "            })\n",
    "\n",
    "# Convert the output data to a DataFrame\n",
    "co_occurrence_df = pd.DataFrame(output_data)\n",
    "\n",
    "# Save to CSV for visualization\n",
    "#co_occurrence_file = 'co_occurrence_summary.csv'\n",
    "#co_occurrence_df.to_csv(co_occurrence_file, index=False)\n",
    "#print(f\"Co-occurrence summary saved to {co_occurrence_file}\")\n"
   ]
  },
  {
   "cell_type": "code",
   "execution_count": 9,
   "metadata": {},
   "outputs": [
    {
     "data": {
      "text/html": [
       "<div>\n",
       "<style scoped>\n",
       "    .dataframe tbody tr th:only-of-type {\n",
       "        vertical-align: middle;\n",
       "    }\n",
       "\n",
       "    .dataframe tbody tr th {\n",
       "        vertical-align: top;\n",
       "    }\n",
       "\n",
       "    .dataframe thead th {\n",
       "        text-align: right;\n",
       "    }\n",
       "</style>\n",
       "<table border=\"1\" class=\"dataframe\">\n",
       "  <thead>\n",
       "    <tr style=\"text-align: right;\">\n",
       "      <th></th>\n",
       "      <th>num_cnn</th>\n",
       "      <th>TF</th>\n",
       "      <th>Co-Occurrence</th>\n",
       "    </tr>\n",
       "  </thead>\n",
       "  <tbody>\n",
       "    <tr>\n",
       "      <th>0</th>\n",
       "      <td>10</td>\n",
       "      <td>AC0069(Pax4)-f1</td>\n",
       "      <td>3</td>\n",
       "    </tr>\n",
       "  </tbody>\n",
       "</table>\n",
       "</div>"
      ],
      "text/plain": [
       "   num_cnn               TF  Co-Occurrence\n",
       "0       10  AC0069(Pax4)-f1              3"
      ]
     },
     "execution_count": 9,
     "metadata": {},
     "output_type": "execute_result"
    }
   ],
   "source": [
    "co_occurrence_df"
   ]
  }
 ],
 "metadata": {
  "kernelspec": {
   "display_name": "explainn",
   "language": "python",
   "name": "python3"
  },
  "language_info": {
   "codemirror_mode": {
    "name": "ipython",
    "version": 3
   },
   "file_extension": ".py",
   "mimetype": "text/x-python",
   "name": "python",
   "nbconvert_exporter": "python",
   "pygments_lexer": "ipython3",
   "version": "3.10.14"
  }
 },
 "nbformat": 4,
 "nbformat_minor": 2
}
